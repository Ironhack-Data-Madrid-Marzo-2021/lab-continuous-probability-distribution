{
 "cells": [
  {
   "cell_type": "markdown",
   "metadata": {},
   "source": [
    "# Before your start:\n",
    "\n",
    "    Read the README.md file\n",
    "    Comment as much as you can and use the resources (README.md file)\n",
    "    Happy learning!"
   ]
  },
  {
   "cell_type": "markdown",
   "metadata": {},
   "source": [
    "In this exercise, we  will generate random numbers from the continuous disributions we learned in the lesson. There are two ways to generate random numbers:\n",
    "\n",
    "1. Using the numpy library \n",
    "1. using the Scipy library \n",
    "\n",
    "Use either or both of the lbraries in this exercise."
   ]
  },
  {
   "cell_type": "markdown",
   "metadata": {},
   "source": [
    "## Uniform Distribution\n",
    "\n",
    "To generate uniform random numbers between any two given values using scipy, we can either use the following code or the code that we have\n",
    "discussed in class:"
   ]
  },
  {
   "cell_type": "code",
   "execution_count": 1,
   "metadata": {},
   "outputs": [
    {
     "name": "stdout",
     "output_type": "stream",
     "text": [
      "[2.50915358 2.36845357 2.51124071 2.1780786  2.17985234 2.13185946\n",
      " 2.16227544 2.91460262 2.48907496 2.90639708]\n"
     ]
    }
   ],
   "source": [
    "from scipy.stats import uniform\n",
    "x = uniform.rvs(size=10)\n",
    "a = 2\n",
    "b = 3\n",
    "randoms  = a + (b-a)*x\n",
    "print(randoms)"
   ]
  },
  {
   "cell_type": "code",
   "execution_count": 4,
   "metadata": {
    "collapsed": true
   },
   "outputs": [
    {
     "data": {
      "text/plain": [
       "array([2.58755688, 2.82029206, 2.98555777, 2.54427832, 2.87265103,\n",
       "       2.80653121, 2.42733264, 2.29831111, 2.55596096, 2.95830981,\n",
       "       2.92167565, 2.05838014, 2.63076786, 2.41355342, 2.32564705,\n",
       "       2.49956288, 2.90957561, 2.08093923, 2.73240292, 2.84684408,\n",
       "       2.13458378, 2.74041612, 2.074511  , 2.08892653, 2.72253689,\n",
       "       2.32718549, 2.35809371, 2.11198513, 2.36514765, 2.00833569,\n",
       "       2.63890394, 2.6842161 , 2.62123617, 2.80393574, 2.83936947,\n",
       "       2.28140849, 2.69088098, 2.44617663, 2.40417079, 2.41376788,\n",
       "       2.58183699, 2.79237548, 2.58794113, 2.54454027, 2.90376244,\n",
       "       2.75008467, 2.06882045, 2.82634435, 2.49964314, 2.65708338,\n",
       "       2.67579094, 2.86688232, 2.77608007, 2.3383203 , 2.54006917,\n",
       "       2.83028353, 2.88810177, 2.15721084, 2.49118341, 2.26412834,\n",
       "       2.72523736, 2.9838566 , 2.34160039, 2.27538179, 2.90409803,\n",
       "       2.282796  , 2.05250926, 2.22014657, 2.01386051, 2.07956293,\n",
       "       2.34705474, 2.3778982 , 2.31525117, 2.51466465, 2.17107151,\n",
       "       2.50620585, 2.67285143, 2.49158052, 2.23629327, 2.36473667,\n",
       "       2.28040696, 2.25290864, 2.84683424, 2.57617627, 2.1042199 ,\n",
       "       2.91409657, 2.55028316, 2.5597394 , 2.2449536 , 2.93067826,\n",
       "       2.11516928, 2.98030518, 2.78434078, 2.32325005, 2.75567876,\n",
       "       2.09453851, 2.85096481, 2.20459574, 2.07158227, 2.07873654,\n",
       "       2.61315596, 2.60816633, 2.9562188 , 2.56049013, 2.90447398,\n",
       "       2.53457749, 2.25891148, 2.84471999, 2.35979685, 2.55247173,\n",
       "       2.8594739 , 2.62574685, 2.15543985, 2.86674774, 2.83499571,\n",
       "       2.36269766, 2.46501593, 2.28454729, 2.97127852, 2.53711854,\n",
       "       2.42620825, 2.39438818, 2.16816444, 2.41315589, 2.30216679,\n",
       "       2.81138957, 2.68061233, 2.52859747, 2.34933794, 2.59089853,\n",
       "       2.3107423 , 2.48767444, 2.54031751, 2.77123372, 2.96788166,\n",
       "       2.82499125, 2.14520596, 2.61846144, 2.83289795, 2.43997514,\n",
       "       2.73123082, 2.11235194, 2.24180867, 2.70949355, 2.4222826 ,\n",
       "       2.65151349, 2.51054923, 2.17158804, 2.51420443, 2.74157206,\n",
       "       2.49859063, 2.66771592, 2.98225236, 2.6052024 , 2.47505174,\n",
       "       2.95731693, 2.37932458, 2.93263157, 2.64779959, 2.34992023,\n",
       "       2.50038738, 2.28400767, 2.03157469, 2.7361124 , 2.62848807,\n",
       "       2.1779554 , 2.8727591 , 2.73744905, 2.01173349, 2.91559033,\n",
       "       2.74981158, 2.98788543, 2.83173352, 2.23920807, 2.35777997,\n",
       "       2.27109694, 2.07700631, 2.67269772, 2.84139972, 2.55832157,\n",
       "       2.36315898, 2.16095182, 2.85601542, 2.82093349, 2.11354935,\n",
       "       2.54124554, 2.84967851, 2.01423202, 2.38288002, 2.92372619,\n",
       "       2.22295473, 2.87610658, 2.42848122, 2.93181819, 2.30016525,\n",
       "       2.58597456, 2.37712009, 2.56907543, 2.4715272 , 2.34383122,\n",
       "       2.60793346, 2.55541751, 2.51630928, 2.22151442, 2.46282654,\n",
       "       2.84722443, 2.5210494 , 2.55158161, 2.94276082, 2.56907949,\n",
       "       2.44251823, 2.30279665, 2.37184043, 2.5725727 , 2.21973917,\n",
       "       2.37946745, 2.97338521, 2.70757544, 2.86875055, 2.9041109 ,\n",
       "       2.35850617, 2.65254037, 2.52065849, 2.42481334, 2.31685799,\n",
       "       2.37817429, 2.42196645, 2.94912526, 2.58789078, 2.19370177,\n",
       "       2.89726094, 2.86261617, 2.06147907, 2.91994588, 2.53870803,\n",
       "       2.6539549 , 2.69978123, 2.47074422, 2.50750961, 2.86595414,\n",
       "       2.44577553, 2.66795829, 2.22393662, 2.79248067, 2.5334644 ,\n",
       "       2.38394614, 2.63903039, 2.70412516, 2.88392459, 2.23585493,\n",
       "       2.64208097, 2.55040403, 2.7423138 , 2.52847958, 2.3463838 ,\n",
       "       2.32103618, 2.1494776 , 2.56568667, 2.8390881 , 2.31255964,\n",
       "       2.91826777, 2.40088726, 2.58427081, 2.62819286, 2.51601249,\n",
       "       2.481766  , 2.26675152, 2.33808752, 2.23163648, 2.97416524,\n",
       "       2.00627381, 2.84077132, 2.65568379, 2.73501981, 2.34182938,\n",
       "       2.27537657, 2.184452  , 2.27868025, 2.9856972 , 2.85487217,\n",
       "       2.34744839, 2.89498484, 2.85662262, 2.85968019, 2.23110031,\n",
       "       2.81505564, 2.03065842, 2.96094964, 2.7006133 , 2.21738862,\n",
       "       2.37297408, 2.82994566, 2.58962647, 2.9412657 , 2.7524464 ,\n",
       "       2.72552029, 2.92840429, 2.87177926, 2.01369244, 2.65564077,\n",
       "       2.7358334 , 2.52263627, 2.39779046, 2.26898056, 2.63157939,\n",
       "       2.66757502, 2.40692872, 2.03183854, 2.40386487, 2.775138  ,\n",
       "       2.63314788, 2.94748385, 2.72356135, 2.29365835, 2.53661541,\n",
       "       2.7183319 , 2.72730136, 2.6672342 , 2.08270687, 2.63294419,\n",
       "       2.09735373, 2.35971817, 2.67704295, 2.74211198, 2.93268385,\n",
       "       2.06748055, 2.20414613, 2.36414283, 2.84388448, 2.04785374,\n",
       "       2.1475945 , 2.69361418, 2.73711031, 2.9153578 , 2.8265092 ,\n",
       "       2.74388242, 2.23750248, 2.0593846 , 2.06333582, 2.86893121,\n",
       "       2.78452402, 2.22213632, 2.44421615, 2.99301246, 2.22039216,\n",
       "       2.12699817, 2.50641019, 2.09148386, 2.32091372, 2.79230898,\n",
       "       2.61783551, 2.66045806, 2.13566319, 2.96683245, 2.23404571,\n",
       "       2.92060619, 2.19218578, 2.18072588, 2.2216056 , 2.60395423,\n",
       "       2.19768749, 2.07758235, 2.30893736, 2.57538081, 2.604694  ,\n",
       "       2.02102072, 2.54900212, 2.00855518, 2.15793141, 2.26053707,\n",
       "       2.68099943, 2.72510156, 2.98373623, 2.46157608, 2.56838612,\n",
       "       2.89830465, 2.80155457, 2.05717773, 2.46509365, 2.71167164,\n",
       "       2.66561858, 2.21578304, 2.91907902, 2.35445352, 2.90885422,\n",
       "       2.49339703, 2.65804224, 2.97411539, 2.7022364 , 2.58130343,\n",
       "       2.72043855, 2.55996441, 2.40516395, 2.35035597, 2.98033682,\n",
       "       2.1117854 , 2.62143779, 2.90509258, 2.09073061, 2.13782462,\n",
       "       2.99105783, 2.55968733, 2.72176203, 2.46906877, 2.26667291,\n",
       "       2.16867368, 2.82283884, 2.69372082, 2.2776066 , 2.14779781,\n",
       "       2.55988909, 2.14391389, 2.58069836, 2.71963542, 2.00184695,\n",
       "       2.94905704, 2.26480465, 2.57317293, 2.38757081, 2.51852135,\n",
       "       2.06936056, 2.74298503, 2.41237081, 2.92481603, 2.87908788,\n",
       "       2.16396344, 2.47790456, 2.56054744, 2.65066431, 2.43756438,\n",
       "       2.77876829, 2.0298813 , 2.37551676, 2.21303511, 2.25488188,\n",
       "       2.97156608, 2.1212942 , 2.68567028, 2.47908486, 2.29691403,\n",
       "       2.46567058, 2.73750745, 2.86370842, 2.54184555, 2.7690191 ,\n",
       "       2.81065579, 2.80460226, 2.27850345, 2.58825001, 2.8992852 ,\n",
       "       2.46851226, 2.82078811, 2.84342237, 2.3506875 , 2.23410969,\n",
       "       2.16329003, 2.65870196, 2.31674781, 2.68630997, 2.76995664,\n",
       "       2.12839557, 2.11833501, 2.37234591, 2.72121154, 2.27407296,\n",
       "       2.15675391, 2.44770433, 2.33874918, 2.8746646 , 2.10747913,\n",
       "       2.91726759, 2.73002301, 2.62375483, 2.42686132, 2.12410716,\n",
       "       2.56653625, 2.51361371, 2.18307357, 2.75392583, 2.32756981,\n",
       "       2.09489926, 2.46718523, 2.09083667, 2.36711899, 2.39332908,\n",
       "       2.87618465, 2.17898023, 2.76045809, 2.28472905, 2.73107326,\n",
       "       2.68231656, 2.91348655, 2.98828848, 2.16985884, 2.19328075,\n",
       "       2.14500888, 2.08999294, 2.09457476, 2.90163779, 2.34296829,\n",
       "       2.63259538, 2.8478754 , 2.37452025, 2.45048038, 2.63948345,\n",
       "       2.95739249, 2.88894106, 2.0422595 , 2.01973628, 2.14712463,\n",
       "       2.44765034, 2.26016172, 2.81629097, 2.64366227, 2.24002312,\n",
       "       2.6516691 , 2.3285353 , 2.30336846, 2.50316148, 2.92942334,\n",
       "       2.72337205, 2.522687  , 2.72740752, 2.62752035, 2.0880862 ,\n",
       "       2.85078077, 2.80589234, 2.70272371, 2.02683798, 2.64221984,\n",
       "       2.39912186, 2.89051509, 2.59679251, 2.20647826, 2.96555643,\n",
       "       2.06251062, 2.44574097, 2.86766861, 2.12243171, 2.04174192,\n",
       "       2.63771455, 2.77220749, 2.15373037, 2.34883   , 2.12589652,\n",
       "       2.02124182, 2.92904062, 2.26480094, 2.31553925, 2.78775649,\n",
       "       2.1968656 , 2.16521688, 2.46830417, 2.60902833, 2.96944046,\n",
       "       2.48840999, 2.65414346, 2.86631784, 2.25379314, 2.46394264,\n",
       "       2.79162434, 2.97414983, 2.121694  , 2.2105242 , 2.14060878,\n",
       "       2.81340204, 2.36006454, 2.48011196, 2.08884036, 2.17180532,\n",
       "       2.54296619, 2.09554514, 2.50388715, 2.87109794, 2.68387513,\n",
       "       2.85556985, 2.14625935, 2.15597975, 2.07022437, 2.32473154,\n",
       "       2.15726221, 2.35082051, 2.04860993, 2.47426455, 2.69346731,\n",
       "       2.54988814, 2.69782469, 2.36782058, 2.79515481, 2.09742791,\n",
       "       2.74503007, 2.82855894, 2.07851311, 2.77867864, 2.03384033,\n",
       "       2.7447376 , 2.59847042, 2.24235096, 2.5271757 , 2.35709374,\n",
       "       2.6940828 , 2.28687594, 2.48410978, 2.83378299, 2.22399763,\n",
       "       2.98711573, 2.86027707, 2.82353792, 2.84651515, 2.39402642,\n",
       "       2.09333115, 2.38982319, 2.96169219, 2.5995769 , 2.22110626,\n",
       "       2.080286  , 2.6549676 , 2.98816489, 2.13650911, 2.46303911,\n",
       "       2.67647285, 2.03196229, 2.57890696, 2.47642342, 2.95288967,\n",
       "       2.2623736 , 2.10718979, 2.03309691, 2.01603297, 2.53461139,\n",
       "       2.32443578, 2.75407796, 2.30849475, 2.01753268, 2.0395672 ,\n",
       "       2.03215003, 2.27167355, 2.27210933, 2.74926979, 2.61719286,\n",
       "       2.17554368, 2.2653727 , 2.05385058, 2.7413538 , 2.65388276,\n",
       "       2.61303151, 2.82318758, 2.81618824, 2.75949122, 2.16405838,\n",
       "       2.02467133, 2.14503513, 2.52590497, 2.24284192, 2.10103366,\n",
       "       2.57504141, 2.06468276, 2.31435426, 2.59986011, 2.57597858,\n",
       "       2.05136654, 2.42517662, 2.3959244 , 2.02382954, 2.24136999,\n",
       "       2.61187711, 2.14940468, 2.82962359, 2.95641216, 2.67213393,\n",
       "       2.23180126, 2.13428766, 2.31836918, 2.42098427, 2.81497665,\n",
       "       2.37587315, 2.44133608, 2.04591072, 2.01057509, 2.05435275,\n",
       "       2.268793  , 2.90501228, 2.82066932, 2.41977843, 2.45573276,\n",
       "       2.54224563, 2.13077642, 2.48375644, 2.84924787, 2.45184759,\n",
       "       2.47876877, 2.41259287, 2.02080294, 2.18991456, 2.93297218,\n",
       "       2.66027212, 2.19173542, 2.82267152, 2.58592586, 2.04432623,\n",
       "       2.85155049, 2.44260451, 2.39362699, 2.11682449, 2.44454238,\n",
       "       2.89273949, 2.03281971, 2.75429106, 2.26526139, 2.93698415,\n",
       "       2.63402423, 2.81848248, 2.1479365 , 2.86273476, 2.08638065,\n",
       "       2.7422573 , 2.95014816, 2.07303099, 2.18950689, 2.2487662 ,\n",
       "       2.7839347 , 2.61349414, 2.32563802, 2.41096767, 2.17413151,\n",
       "       2.90657865, 2.98325622, 2.54085848, 2.52863049, 2.30439772,\n",
       "       2.44513388, 2.77968261, 2.77612317, 2.31971893, 2.80774065,\n",
       "       2.27319756, 2.35188564, 2.86725779, 2.26786942, 2.73827724,\n",
       "       2.48908431, 2.01654461, 2.90457736, 2.83400554, 2.21441893,\n",
       "       2.88811526, 2.86206113, 2.01305387, 2.6511087 , 2.01599051,\n",
       "       2.41628684, 2.9463571 , 2.28227817, 2.96322791, 2.67785142,\n",
       "       2.13178273, 2.31546473, 2.5277283 , 2.1628054 , 2.50940533,\n",
       "       2.29301111, 2.46260306, 2.96989604, 2.536874  , 2.01325819,\n",
       "       2.11547456, 2.32919723, 2.2699642 , 2.61192337, 2.07858747,\n",
       "       2.25499964, 2.87972034, 2.73965214, 2.59787219, 2.52865661,\n",
       "       2.6391098 , 2.6031316 , 2.71427974, 2.13448824, 2.44575897,\n",
       "       2.98268474, 2.97202579, 2.79885213, 2.16467046, 2.94327119,\n",
       "       2.45930967, 2.87231293, 2.93453378, 2.42866597, 2.87739448,\n",
       "       2.42930831, 2.81018358, 2.73663032, 2.84035472, 2.98526629,\n",
       "       2.11037276, 2.62271001, 2.64231177, 2.97410813, 2.24381225,\n",
       "       2.27013585, 2.5884793 , 2.37273532, 2.39501813, 2.64192892,\n",
       "       2.97379253, 2.17701206, 2.54443831, 2.92925906, 2.26239865,\n",
       "       2.32794699, 2.4519608 , 2.66734151, 2.6962778 , 2.93800283,\n",
       "       2.1142122 , 2.93718075, 2.7773495 , 2.78962201, 2.01421538,\n",
       "       2.58622932, 2.38878347, 2.1252656 , 2.12183875, 2.83621597,\n",
       "       2.88516389, 2.28710548, 2.86107363, 2.72212945, 2.84445501,\n",
       "       2.85116729, 2.86574141, 2.16873002, 2.86781524, 2.03625248,\n",
       "       2.43911943, 2.78075501, 2.93073002, 2.12637868, 2.47943479,\n",
       "       2.06828874, 2.72390805, 2.90842555, 2.16773029, 2.69414369,\n",
       "       2.42743123, 2.72864373, 2.76410927, 2.9094332 , 2.43202413,\n",
       "       2.32421174, 2.71474899, 2.35941222, 2.72332142, 2.71387711,\n",
       "       2.43236808, 2.40688451, 2.94208766, 2.37735793, 2.16018924,\n",
       "       2.74009457, 2.6632031 , 2.59606305, 2.65921169, 2.27712608,\n",
       "       2.13666879, 2.32600643, 2.35399109, 2.58195261, 2.41302341,\n",
       "       2.00440367, 2.78425834, 2.06844618, 2.91441167, 2.68382504,\n",
       "       2.7590757 , 2.35101615, 2.57399503, 2.96249726, 2.23293366,\n",
       "       2.47923827, 2.09336527, 2.26983958, 2.63371831, 2.43249094,\n",
       "       2.04714199, 2.06788884, 2.05917846, 2.41661916, 2.12623913,\n",
       "       2.73398034, 2.53347666, 2.66391133, 2.36625937, 2.8199466 ,\n",
       "       2.89031238, 2.05088846, 2.82529819, 2.50501802, 2.08052789,\n",
       "       2.05914827, 2.2887663 , 2.26990313, 2.42978534, 2.16295842,\n",
       "       2.82074016, 2.54849594, 2.12773614, 2.81244246, 2.36230593,\n",
       "       2.77585354, 2.96562661, 2.88316246, 2.21616843, 2.46307574,\n",
       "       2.01450887, 2.60469587, 2.48912434, 2.04698673, 2.60918982,\n",
       "       2.36546497, 2.49071881, 2.68807339, 2.80123673, 2.13763679,\n",
       "       2.46596762, 2.56497901, 2.64059665, 2.79255566, 2.20693046,\n",
       "       2.18263285, 2.9283114 , 2.63292106, 2.54910079, 2.70753679,\n",
       "       2.26887859, 2.07336531, 2.9654254 , 2.48455136, 2.11567193,\n",
       "       2.3216773 , 2.2133418 , 2.8578484 , 2.6172857 , 2.27976218,\n",
       "       2.5534564 , 2.84043575, 2.79770278, 2.07462342, 2.16503509,\n",
       "       2.25699211, 2.08021938, 2.5020192 , 2.27580507, 2.32105156,\n",
       "       2.60003672, 2.13784766, 2.56633661, 2.76810129, 2.30563027,\n",
       "       2.36446652, 2.83444042, 2.65722856, 2.04194742, 2.71632588,\n",
       "       2.31266881, 2.73734596, 2.97514586, 2.91579185, 2.9850335 ,\n",
       "       2.244466  , 2.15352549, 2.49340464, 2.4813912 , 2.36075243,\n",
       "       2.90646614, 2.13532879, 2.07503978, 2.42591005, 2.22312478,\n",
       "       2.85151342, 2.52745431, 2.4932044 , 2.3087462 , 2.83618798,\n",
       "       2.65324143, 2.38291934, 2.87694029, 2.08513342, 2.06716141,\n",
       "       2.71847103, 2.80669842, 2.31871066, 2.9332514 , 2.43489163,\n",
       "       2.60535532, 2.90098316, 2.17859763, 2.86112771, 2.83711099])"
      ]
     },
     "execution_count": 4,
     "metadata": {},
     "output_type": "execute_result"
    }
   ],
   "source": [
    "a =2\n",
    "b = 3\n",
    "h = b - a\n",
    "my_uniform = uniform(a, h)\n",
    "my_uniform.rvs(1000)"
   ]
  },
  {
   "cell_type": "markdown",
   "metadata": {},
   "source": [
    "**Your task:**\n",
    "\n",
    "1. Based on the code above, write a function that generates uniformly distributed random numbers. There are several requirements for your function:\n",
    "    * It should accept 3 parameters: \n",
    "        * `bottom` - the lower boundary of the generated numbers\n",
    "        * `ceiling` - the upper boundary of the generated numbers\n",
    "        * `count` - how many numbers to generate\n",
    "    * It should return an array of uniformly distributed random numbers\n",
    "\n",
    "1. Call your function with 2 sets of params below:\n",
    "    * bottom=10, ceiling=15, count=100\n",
    "    * bottom=10, ceiling=60, count=1,000\n",
    "\n",
    "1. Plot the uniform distributions generated above using histograms, where x axis is the value and y axis is the count. Let the histogram's number of bins be 10.\n",
    "\n",
    "Your output should look like below:\n",
    "\n",
    "![uniform distribution](ud.png)"
   ]
  },
  {
   "cell_type": "code",
   "execution_count": 5,
   "metadata": {},
   "outputs": [],
   "source": [
    "# your code here\n",
    "def uniform_random_n(bottom, ceiling, count):\n",
    "    h = ceiling - bottom\n",
    "    \n",
    "    return uniform(bottom, h).rvs(count)\n",
    "    "
   ]
  },
  {
   "cell_type": "code",
   "execution_count": 8,
   "metadata": {},
   "outputs": [],
   "source": [
    "dist1 = uniform_random_n(bottom=10, ceiling=15, count=100)\n",
    "dist2 = uniform_random_n(bottom=10, ceiling=60, count=1000)\n"
   ]
  },
  {
   "cell_type": "code",
   "execution_count": 10,
   "metadata": {},
   "outputs": [
    {
     "data": {
      "text/plain": [
       "<AxesSubplot:ylabel='Count'>"
      ]
     },
     "execution_count": 10,
     "metadata": {},
     "output_type": "execute_result"
    },
    {
     "data": {
      "image/png": "[encoded data removed]",
      "text/plain": [
       "<Figure size 432x288 with 1 Axes>"
      ]
     },
     "metadata": {
      "needs_background": "light"
     },
     "output_type": "display_data"
    }
   ],
   "source": [
    "import matplotlib.pyplot as plt\n",
    "import seaborn as sns\n",
    "sns.histplot(dist1, bins=10)"
   ]
  },
  {
   "cell_type": "code",
   "execution_count": 11,
   "metadata": {},
   "outputs": [
    {
     "data": {
      "text/plain": [
       "<AxesSubplot:ylabel='Count'>"
      ]
     },
     "execution_count": 11,
     "metadata": {},
     "output_type": "execute_result"
    },
    {
     "data": {
      "image/png": "[encoded data removed]",
      "text/plain": [
       "<Figure size 432x288 with 1 Axes>"
      ]
     },
     "metadata": {
      "needs_background": "light"
     },
     "output_type": "display_data"
    }
   ],
   "source": [
    "sns.histplot(dist2, bins = 10\n",
    "            )"
   ]
  },
  {
   "cell_type": "markdown",
   "metadata": {},
   "source": [
    "How are the two distributions different?"
   ]
  },
  {
   "cell_type": "markdown",
   "metadata": {},
   "source": [
    "as the number of samples get bigger the distribution becomes more and more uniform.\n"
   ]
  },
  {
   "cell_type": "markdown",
   "metadata": {},
   "source": [
    "## Normal Distribution\n",
    "\n",
    "1. In the same way in the Uniform Distribution challenge, write a function that generates normally distributed random numbers.\n",
    "1. Generate 1,000 normally distributed numbers with the average of 10 and standard deviation of 1\n",
    "1. Generate 1,000 normally distributed numbers with the average of 10 and standard deviation of 50\n",
    "2. Plot the distributions of the data generated.\n",
    "\n",
    "Expected output:\n",
    "\n",
    "![normal distribution](nd.png)"
   ]
  },
  {
   "cell_type": "code",
   "execution_count": 14,
   "metadata": {},
   "outputs": [],
   "source": [
    "# your code here\n",
    "from scipy.stats import norm\n",
    "def normal_dist_numbers(mean, std, count):\n",
    "    normal = norm(mean, std)\n",
    "    return normal.rvs(count)"
   ]
  },
  {
   "cell_type": "code",
   "execution_count": 16,
   "metadata": {},
   "outputs": [],
   "source": [
    "dist3 = normal_dist_numbers(10, 1, 1000)\n",
    "dist4 = normal_dist_numbers(10, 50, 1000)"
   ]
  },
  {
   "cell_type": "code",
   "execution_count": 21,
   "metadata": {},
   "outputs": [
    {
     "data": {
      "text/plain": [
       "<AxesSubplot:ylabel='Count'>"
      ]
     },
     "execution_count": 21,
     "metadata": {},
     "output_type": "execute_result"
    },
    {
     "data": {
      "image/png": "[encoded data removed]",
      "text/plain": [
       "<Figure size 432x288 with 1 Axes>"
      ]
     },
     "metadata": {
      "needs_background": "light"
     },
     "output_type": "display_data"
    }
   ],
   "source": [
    "sns.histplot(dist3, bins =50)\n"
   ]
  },
  {
   "cell_type": "code",
   "execution_count": 22,
   "metadata": {},
   "outputs": [
    {
     "data": {
      "text/plain": [
       "<AxesSubplot:ylabel='Count'>"
      ]
     },
     "execution_count": 22,
     "metadata": {},
     "output_type": "execute_result"
    },
    {
     "data": {
      "image/png": "[encoded data removed]",
      "text/plain": [
       "<Figure size 432x288 with 1 Axes>"
      ]
     },
     "metadata": {
      "needs_background": "light"
     },
     "output_type": "display_data"
    }
   ],
   "source": [
    "sns.histplot(dist4, bins = 50)"
   ]
  },
  {
   "cell_type": "markdown",
   "metadata": {},
   "source": [
    "How are the two distributions different?"
   ]
  },
  {
   "cell_type": "markdown",
   "metadata": {},
   "source": [
    "the second distribution has a higher standad deviation and is wider and more spread out from the mean"
   ]
  },
  {
   "cell_type": "markdown",
   "metadata": {},
   "source": [
    "## Normal Distribution of Real Data\n",
    "\n",
    "In this challenge we are going to take a look the real data. We will use vehicles.csv file for this exercise"
   ]
  },
  {
   "cell_type": "markdown",
   "metadata": {},
   "source": [
    "First import vehicles.csv.\n",
    "Then plot the histograms for the following variables:\n",
    "\n",
    "1. Fuel Barrels/Year"
   ]
  },
  {
   "cell_type": "code",
   "execution_count": 26,
   "metadata": {},
   "outputs": [
    {
     "data": {
      "text/html": [
       "<div>\n",
       "<style scoped>\n",
       "    .dataframe tbody tr th:only-of-type {\n",
       "        vertical-align: middle;\n",
       "    }\n",
       "\n",
       "    .dataframe tbody tr th {\n",
       "        vertical-align: top;\n",
       "    }\n",
       "\n",
       "    .dataframe thead th {\n",
       "        text-align: right;\n",
       "    }\n",
       "</style>\n",
       "<table border=\"1\" class=\"dataframe\">\n",
       "  <thead>\n",
       "    <tr style=\"text-align: right;\">\n",
       "      <th></th>\n",
       "      <th>Make</th>\n",
       "      <th>Model</th>\n",
       "      <th>Year</th>\n",
       "      <th>Engine Displacement</th>\n",
       "      <th>Cylinders</th>\n",
       "      <th>Transmission</th>\n",
       "      <th>Drivetrain</th>\n",
       "      <th>Vehicle Class</th>\n",
       "      <th>Fuel Type</th>\n",
       "      <th>Fuel Barrels/Year</th>\n",
       "      <th>City MPG</th>\n",
       "      <th>Highway MPG</th>\n",
       "      <th>Combined MPG</th>\n",
       "      <th>CO2 Emission Grams/Mile</th>\n",
       "      <th>Fuel Cost/Year</th>\n",
       "    </tr>\n",
       "  </thead>\n",
       "  <tbody>\n",
       "    <tr>\n",
       "      <th>0</th>\n",
       "      <td>AM General</td>\n",
       "      <td>DJ Po Vehicle 2WD</td>\n",
       "      <td>1984</td>\n",
       "      <td>2.5</td>\n",
       "      <td>4.0</td>\n",
       "      <td>Automatic 3-spd</td>\n",
       "      <td>2-Wheel Drive</td>\n",
       "      <td>Special Purpose Vehicle 2WD</td>\n",
       "      <td>Regular</td>\n",
       "      <td>19.388824</td>\n",
       "      <td>18</td>\n",
       "      <td>17</td>\n",
       "      <td>17</td>\n",
       "      <td>522.764706</td>\n",
       "      <td>1950</td>\n",
       "    </tr>\n",
       "    <tr>\n",
       "      <th>1</th>\n",
       "      <td>AM General</td>\n",
       "      <td>FJ8c Post Office</td>\n",
       "      <td>1984</td>\n",
       "      <td>4.2</td>\n",
       "      <td>6.0</td>\n",
       "      <td>Automatic 3-spd</td>\n",
       "      <td>2-Wheel Drive</td>\n",
       "      <td>Special Purpose Vehicle 2WD</td>\n",
       "      <td>Regular</td>\n",
       "      <td>25.354615</td>\n",
       "      <td>13</td>\n",
       "      <td>13</td>\n",
       "      <td>13</td>\n",
       "      <td>683.615385</td>\n",
       "      <td>2550</td>\n",
       "    </tr>\n",
       "    <tr>\n",
       "      <th>2</th>\n",
       "      <td>AM General</td>\n",
       "      <td>Post Office DJ5 2WD</td>\n",
       "      <td>1985</td>\n",
       "      <td>2.5</td>\n",
       "      <td>4.0</td>\n",
       "      <td>Automatic 3-spd</td>\n",
       "      <td>Rear-Wheel Drive</td>\n",
       "      <td>Special Purpose Vehicle 2WD</td>\n",
       "      <td>Regular</td>\n",
       "      <td>20.600625</td>\n",
       "      <td>16</td>\n",
       "      <td>17</td>\n",
       "      <td>16</td>\n",
       "      <td>555.437500</td>\n",
       "      <td>2100</td>\n",
       "    </tr>\n",
       "    <tr>\n",
       "      <th>3</th>\n",
       "      <td>AM General</td>\n",
       "      <td>Post Office DJ8 2WD</td>\n",
       "      <td>1985</td>\n",
       "      <td>4.2</td>\n",
       "      <td>6.0</td>\n",
       "      <td>Automatic 3-spd</td>\n",
       "      <td>Rear-Wheel Drive</td>\n",
       "      <td>Special Purpose Vehicle 2WD</td>\n",
       "      <td>Regular</td>\n",
       "      <td>25.354615</td>\n",
       "      <td>13</td>\n",
       "      <td>13</td>\n",
       "      <td>13</td>\n",
       "      <td>683.615385</td>\n",
       "      <td>2550</td>\n",
       "    </tr>\n",
       "    <tr>\n",
       "      <th>4</th>\n",
       "      <td>ASC Incorporated</td>\n",
       "      <td>GNX</td>\n",
       "      <td>1987</td>\n",
       "      <td>3.8</td>\n",
       "      <td>6.0</td>\n",
       "      <td>Automatic 4-spd</td>\n",
       "      <td>Rear-Wheel Drive</td>\n",
       "      <td>Midsize Cars</td>\n",
       "      <td>Premium</td>\n",
       "      <td>20.600625</td>\n",
       "      <td>14</td>\n",
       "      <td>21</td>\n",
       "      <td>16</td>\n",
       "      <td>555.437500</td>\n",
       "      <td>2550</td>\n",
       "    </tr>\n",
       "    <tr>\n",
       "      <th>...</th>\n",
       "      <td>...</td>\n",
       "      <td>...</td>\n",
       "      <td>...</td>\n",
       "      <td>...</td>\n",
       "      <td>...</td>\n",
       "      <td>...</td>\n",
       "      <td>...</td>\n",
       "      <td>...</td>\n",
       "      <td>...</td>\n",
       "      <td>...</td>\n",
       "      <td>...</td>\n",
       "      <td>...</td>\n",
       "      <td>...</td>\n",
       "      <td>...</td>\n",
       "      <td>...</td>\n",
       "    </tr>\n",
       "    <tr>\n",
       "      <th>35947</th>\n",
       "      <td>smart</td>\n",
       "      <td>fortwo coupe</td>\n",
       "      <td>2013</td>\n",
       "      <td>1.0</td>\n",
       "      <td>3.0</td>\n",
       "      <td>Auto(AM5)</td>\n",
       "      <td>Rear-Wheel Drive</td>\n",
       "      <td>Two Seaters</td>\n",
       "      <td>Premium</td>\n",
       "      <td>9.155833</td>\n",
       "      <td>34</td>\n",
       "      <td>38</td>\n",
       "      <td>36</td>\n",
       "      <td>244.000000</td>\n",
       "      <td>1100</td>\n",
       "    </tr>\n",
       "    <tr>\n",
       "      <th>35948</th>\n",
       "      <td>smart</td>\n",
       "      <td>fortwo coupe</td>\n",
       "      <td>2014</td>\n",
       "      <td>1.0</td>\n",
       "      <td>3.0</td>\n",
       "      <td>Auto(AM5)</td>\n",
       "      <td>Rear-Wheel Drive</td>\n",
       "      <td>Two Seaters</td>\n",
       "      <td>Premium</td>\n",
       "      <td>9.155833</td>\n",
       "      <td>34</td>\n",
       "      <td>38</td>\n",
       "      <td>36</td>\n",
       "      <td>243.000000</td>\n",
       "      <td>1100</td>\n",
       "    </tr>\n",
       "    <tr>\n",
       "      <th>35949</th>\n",
       "      <td>smart</td>\n",
       "      <td>fortwo coupe</td>\n",
       "      <td>2015</td>\n",
       "      <td>1.0</td>\n",
       "      <td>3.0</td>\n",
       "      <td>Auto(AM5)</td>\n",
       "      <td>Rear-Wheel Drive</td>\n",
       "      <td>Two Seaters</td>\n",
       "      <td>Premium</td>\n",
       "      <td>9.155833</td>\n",
       "      <td>34</td>\n",
       "      <td>38</td>\n",
       "      <td>36</td>\n",
       "      <td>244.000000</td>\n",
       "      <td>1100</td>\n",
       "    </tr>\n",
       "    <tr>\n",
       "      <th>35950</th>\n",
       "      <td>smart</td>\n",
       "      <td>fortwo coupe</td>\n",
       "      <td>2016</td>\n",
       "      <td>0.9</td>\n",
       "      <td>3.0</td>\n",
       "      <td>Auto(AM6)</td>\n",
       "      <td>Rear-Wheel Drive</td>\n",
       "      <td>Two Seaters</td>\n",
       "      <td>Premium</td>\n",
       "      <td>9.155833</td>\n",
       "      <td>34</td>\n",
       "      <td>39</td>\n",
       "      <td>36</td>\n",
       "      <td>246.000000</td>\n",
       "      <td>1100</td>\n",
       "    </tr>\n",
       "    <tr>\n",
       "      <th>35951</th>\n",
       "      <td>smart</td>\n",
       "      <td>fortwo coupe</td>\n",
       "      <td>2016</td>\n",
       "      <td>0.9</td>\n",
       "      <td>3.0</td>\n",
       "      <td>Manual 5-spd</td>\n",
       "      <td>Rear-Wheel Drive</td>\n",
       "      <td>Two Seaters</td>\n",
       "      <td>Premium</td>\n",
       "      <td>9.417429</td>\n",
       "      <td>32</td>\n",
       "      <td>39</td>\n",
       "      <td>35</td>\n",
       "      <td>255.000000</td>\n",
       "      <td>1150</td>\n",
       "    </tr>\n",
       "  </tbody>\n",
       "</table>\n",
       "<p>35952 rows × 15 columns</p>\n",
       "</div>"
      ],
      "text/plain": [
       "                   Make                Model  Year  Engine Displacement  \\\n",
       "0            AM General    DJ Po Vehicle 2WD  1984                  2.5   \n",
       "1            AM General     FJ8c Post Office  1984                  4.2   \n",
       "2            AM General  Post Office DJ5 2WD  1985                  2.5   \n",
       "3            AM General  Post Office DJ8 2WD  1985                  4.2   \n",
       "4      ASC Incorporated                  GNX  1987                  3.8   \n",
       "...                 ...                  ...   ...                  ...   \n",
       "35947             smart         fortwo coupe  2013                  1.0   \n",
       "35948             smart         fortwo coupe  2014                  1.0   \n",
       "35949             smart         fortwo coupe  2015                  1.0   \n",
       "35950             smart         fortwo coupe  2016                  0.9   \n",
       "35951             smart         fortwo coupe  2016                  0.9   \n",
       "\n",
       "       Cylinders     Transmission        Drivetrain  \\\n",
       "0            4.0  Automatic 3-spd     2-Wheel Drive   \n",
       "1            6.0  Automatic 3-spd     2-Wheel Drive   \n",
       "2            4.0  Automatic 3-spd  Rear-Wheel Drive   \n",
       "3            6.0  Automatic 3-spd  Rear-Wheel Drive   \n",
       "4            6.0  Automatic 4-spd  Rear-Wheel Drive   \n",
       "...          ...              ...               ...   \n",
       "35947        3.0        Auto(AM5)  Rear-Wheel Drive   \n",
       "35948        3.0        Auto(AM5)  Rear-Wheel Drive   \n",
       "35949        3.0        Auto(AM5)  Rear-Wheel Drive   \n",
       "35950        3.0        Auto(AM6)  Rear-Wheel Drive   \n",
       "35951        3.0     Manual 5-spd  Rear-Wheel Drive   \n",
       "\n",
       "                     Vehicle Class Fuel Type  Fuel Barrels/Year  City MPG  \\\n",
       "0      Special Purpose Vehicle 2WD   Regular          19.388824        18   \n",
       "1      Special Purpose Vehicle 2WD   Regular          25.354615        13   \n",
       "2      Special Purpose Vehicle 2WD   Regular          20.600625        16   \n",
       "3      Special Purpose Vehicle 2WD   Regular          25.354615        13   \n",
       "4                     Midsize Cars   Premium          20.600625        14   \n",
       "...                            ...       ...                ...       ...   \n",
       "35947                  Two Seaters   Premium           9.155833        34   \n",
       "35948                  Two Seaters   Premium           9.155833        34   \n",
       "35949                  Two Seaters   Premium           9.155833        34   \n",
       "35950                  Two Seaters   Premium           9.155833        34   \n",
       "35951                  Two Seaters   Premium           9.417429        32   \n",
       "\n",
       "       Highway MPG  Combined MPG  CO2 Emission Grams/Mile  Fuel Cost/Year  \n",
       "0               17            17               522.764706            1950  \n",
       "1               13            13               683.615385            2550  \n",
       "2               17            16               555.437500            2100  \n",
       "3               13            13               683.615385            2550  \n",
       "4               21            16               555.437500            2550  \n",
       "...            ...           ...                      ...             ...  \n",
       "35947           38            36               244.000000            1100  \n",
       "35948           38            36               243.000000            1100  \n",
       "35949           38            36               244.000000            1100  \n",
       "35950           39            36               246.000000            1100  \n",
       "35951           39            35               255.000000            1150  \n",
       "\n",
       "[35952 rows x 15 columns]"
      ]
     },
     "execution_count": 26,
     "metadata": {},
     "output_type": "execute_result"
    }
   ],
   "source": [
    "import pandas as pd\n",
    "vehicles = pd.read_csv('vehicles.csv')\n",
    "vehicles"
   ]
  },
  {
   "cell_type": "code",
   "execution_count": 53,
   "metadata": {},
   "outputs": [
    {
     "data": {
      "text/plain": [
       "<AxesSubplot:xlabel='Fuel Barrels/Year', ylabel='Density'>"
      ]
     },
     "execution_count": 53,
     "metadata": {},
     "output_type": "execute_result"
    },
    {
     "data": {
      "image/png": "[encoded data removed]",
      "text/plain": [
       "<Figure size 432x288 with 1 Axes>"
      ]
     },
     "metadata": {
      "needs_background": "light"
     },
     "output_type": "display_data"
    }
   ],
   "source": [
    "# your code here\n",
    "sns.kdeplot(vehicles['Fuel Barrels/Year'])"
   ]
  },
  {
   "cell_type": "markdown",
   "metadata": {},
   "source": [
    "2. CO2 Emission Grams/Mile "
   ]
  },
  {
   "cell_type": "code",
   "execution_count": 51,
   "metadata": {},
   "outputs": [
    {
     "data": {
      "text/plain": [
       "<AxesSubplot:xlabel='CO2 Emission Grams/Mile', ylabel='Density'>"
      ]
     },
     "execution_count": 51,
     "metadata": {},
     "output_type": "execute_result"
    },
    {
     "data": {
      "image/png": "[encoded data removed]",
      "text/plain": [
       "<Figure size 432x288 with 1 Axes>"
      ]
     },
     "metadata": {
      "needs_background": "light"
     },
     "output_type": "display_data"
    }
   ],
   "source": [
    "# your code here\n",
    "sns.kdeplot(vehicles['CO2 Emission Grams/Mile'])"
   ]
  },
  {
   "cell_type": "markdown",
   "metadata": {},
   "source": [
    "3. Combined MPG"
   ]
  },
  {
   "cell_type": "code",
   "execution_count": 50,
   "metadata": {},
   "outputs": [
    {
     "data": {
      "text/plain": [
       "<AxesSubplot:xlabel='Combined MPG', ylabel='Density'>"
      ]
     },
     "execution_count": 50,
     "metadata": {},
     "output_type": "execute_result"
    },
    {
     "data": {
      "image/png": "[encoded data removed]",
      "text/plain": [
       "<Figure size 432x288 with 1 Axes>"
      ]
     },
     "metadata": {
      "needs_background": "light"
     },
     "output_type": "display_data"
    }
   ],
   "source": [
    "# your code here\n",
    "sns.kdeplot(vehicles['Combined MPG'])"
   ]
  },
  {
   "cell_type": "markdown",
   "metadata": {},
   "source": [
    "Which one(s) of the variables are nearly normally distributed? How do you know?"
   ]
  },
  {
   "cell_type": "markdown",
   "metadata": {},
   "source": [
    "To me the most normally distributed looking graph is the Combined MPG statistic, it does have a positive skew\n"
   ]
  },
  {
   "cell_type": "markdown",
   "metadata": {},
   "source": [
    "## Exponential Distribution"
   ]
  },
  {
   "cell_type": "markdown",
   "metadata": {},
   "source": [
    "1. Using `numpy.random.exponential`, create a function that returns a list of numbers exponentially distributed with the mean of 10. \n",
    "\n",
    "1. Use the function to generate two number sequences with the size of 10 and 100.\n",
    "\n",
    "1. Plot the distributions as histograms with the nubmer of bins as 100.\n",
    "\n",
    "Your output should look like below:\n",
    "\n",
    "![exponential distribution](ed.png)"
   ]
  },
  {
   "cell_type": "code",
   "execution_count": 107,
   "metadata": {},
   "outputs": [],
   "source": [
    "# your code here\n",
    "import numpy\n",
    "from scipy.stats import expon\n",
    "\n",
    "def exponential_rand(mean, count):\n",
    "    hist = []\n",
    "    for c in range(0, count):\n",
    "        hist.append(numpy.random.exponential(mean))\n",
    "    return hist"
   ]
  },
  {
   "cell_type": "code",
   "execution_count": 108,
   "metadata": {},
   "outputs": [],
   "source": [
    "def expon_function(mean, count):\n",
    "    e = expon(mean).rvs(count)\n",
    "    return e"
   ]
  },
  {
   "cell_type": "code",
   "execution_count": 110,
   "metadata": {},
   "outputs": [
    {
     "name": "stdout",
     "output_type": "stream",
     "text": [
      "using scipy: [10.45720863 11.09604104 10.6790542  11.70593523 10.44443527 10.44773536\n",
      " 10.58230639 11.18298582 11.78427671 14.23229113]\n",
      "using rand: [3.8366321030588377, 11.011597387615042, 10.337138941868924, 11.9454810695993, 41.247919294247914, 4.741944698660701, 22.97142164914598, 4.252899788875007, 4.5520889076902495, 3.4840019298142204]\n"
     ]
    }
   ],
   "source": [
    "exp_10 = expon_function(10, 10)\n",
    "exp10rand = exponential_rand(10, 10)\n",
    "print(f'using scipy: {exp_10}')\n",
    "print(f'using rand: {exp10rand}')"
   ]
  },
  {
   "cell_type": "code",
   "execution_count": 111,
   "metadata": {},
   "outputs": [
    {
     "name": "stdout",
     "output_type": "stream",
     "text": [
      "using scipy: [10.21255908 10.76989071 10.36759872 10.04565764 10.73766222 10.25608377\n",
      " 11.3148914  11.17602121 11.00765795 10.6179936  11.20160335 10.20464739\n",
      " 10.15667657 10.97434932 10.77407523 10.3421264  14.36400288 10.5019306\n",
      " 10.06998501 11.24810565 10.34040729 11.77760445 10.81997405 10.71043318\n",
      " 10.50676131 10.28946545 12.06490367 10.71642076 11.01201252 11.61088108\n",
      " 10.88087692 10.11197249 10.31593406 10.88694113 11.16148036 10.85768356\n",
      " 12.03957365 11.15032201 10.34557971 10.49475176 10.13776645 10.25271088\n",
      " 12.60405812 10.01071974 12.02844742 10.38803579 11.98676382 10.62189377\n",
      " 10.3278046  10.22077916 10.38597431 13.23629651 11.45443603 11.42523454\n",
      " 10.59391675 10.97691754 10.24688193 11.27603752 12.53618926 10.7090541\n",
      " 11.53405307 10.73256916 14.72684003 10.03760817 11.63761565 10.55606977\n",
      " 10.60616756 10.69793287 10.78363141 12.37429076 10.28028936 10.0252161\n",
      " 13.21151097 10.14605839 10.22146032 11.41519114 10.55741675 10.35243272\n",
      " 10.47539835 11.06118534 10.3543904  10.78554624 10.23753795 10.12513746\n",
      " 10.8758268  10.38397108 13.62658931 10.63678015 11.70411364 12.62312903\n",
      " 11.06574443 12.64431893 10.19482327 10.15538971 10.20625973 12.36765892\n",
      " 11.6657303  12.29229009 11.97616277 10.67217063]\n",
      "using rand: [14.180795189677248, 10.979945844289162, 2.821765078846394, 2.3761974110376967, 2.8615541360384054, 20.136113447146947, 5.045910835390651, 26.427964573357563, 14.223234329347619, 5.600531935871945, 11.643019921175972, 3.2391848104314462, 15.421664154661947, 2.861719187600087, 0.9936389209653735, 9.819579650022183, 16.848070227261708, 32.218253444823645, 3.2957885315029474, 3.451685014536862, 2.511242204284066, 7.716145818238024, 0.027748030106648953, 40.39205176178201, 9.194760484910711, 11.888916286237379, 1.5749035754064613, 14.603748558153438, 21.16347440466104, 3.2302954374768107, 10.316711914007556, 9.546151465456479, 7.7344272743005575, 2.4797394686396883, 4.000142832840515, 29.42531042755035, 0.7691847012358866, 5.226092720811303, 0.2245575319291598, 8.691907654962264, 14.076998084999593, 36.9377824886749, 5.742910050064132, 9.004770122175817, 6.205069070657276, 17.602446785031116, 30.04791863492121, 24.55237174084237, 21.573128305098766, 20.63863168566574, 25.10506293230838, 2.3535237689667445, 2.691567800719788, 6.843917477382341, 2.111897859615954, 3.8575836198377287, 9.209505610283186, 11.222269788336385, 13.495941264837253, 13.272115583794788, 15.114523092369318, 5.006039528899192, 1.461109093727837, 27.516747141740396, 4.983877697102081, 18.140470709963083, 12.302378138707253, 8.396400012220816, 5.213090902358096, 37.9743917217598, 5.290737342267433, 12.74305535501479, 1.8933084036357712, 10.847408406568618, 14.278240434433524, 10.287872295141351, 5.106039704434124, 8.539567860437385, 13.846302170512672, 2.4549986245506146, 0.1857497812714923, 1.1418021946245447, 4.626665013196388, 0.4178508114065175, 14.055446577814479, 11.80420216806666, 2.960880225324924, 4.734461588173734, 44.01883998464217, 14.426156453864778, 6.4463268528638, 5.943320934311287, 1.5812094079817651, 1.1185569830857895, 22.126389578264053, 7.739479755716523, 5.607214759125969, 20.7043001770434, 19.144421949164716, 1.1829996326615024]\n"
     ]
    }
   ],
   "source": [
    "exp_100 = expon_function(10, 100)\n",
    "exp100rand = exponential_rand(10, 100)\n",
    "print(f'using scipy: {exp_100}')\n",
    "print(f'using rand: {exp100rand}')"
   ]
  },
  {
   "cell_type": "code",
   "execution_count": 125,
   "metadata": {},
   "outputs": [
    {
     "data": {
      "text/plain": [
       "<matplotlib.legend.Legend at 0x1213ff0d0>"
      ]
     },
     "execution_count": 125,
     "metadata": {},
     "output_type": "execute_result"
    },
    {
     "data": {
      "image/png": "[encoded data removed]",
      "text/plain": [
       "<Figure size 432x288 with 1 Axes>"
      ]
     },
     "metadata": {
      "needs_background": "light"
     },
     "output_type": "display_data"
    }
   ],
   "source": [
    "\n",
    "sns.kdeplot(exp_10, label = 'exp_10')\n",
    "sns.kdeplot(exp10rand, label = \"exp10rand\")\n",
    "plt.legend()"
   ]
  },
  {
   "cell_type": "code",
   "execution_count": 127,
   "metadata": {},
   "outputs": [
    {
     "data": {
      "text/plain": [
       "<matplotlib.legend.Legend at 0x121a0a790>"
      ]
     },
     "execution_count": 127,
     "metadata": {},
     "output_type": "execute_result"
    },
    {
     "data": {
      "image/png": "[encoded data removed]",
      "text/plain": [
       "<Figure size 432x288 with 1 Axes>"
      ]
     },
     "metadata": {
      "needs_background": "light"
     },
     "output_type": "display_data"
    }
   ],
   "source": [
    "sns.kdeplot(exp_100, label = 'exp100')\n",
    "sns.kdeplot(exp100rand, label = \"exp100rand\")\n",
    "plt.legend()"
   ]
  },
  {
   "cell_type": "markdown",
   "metadata": {},
   "source": [
    "How are the two distributions different?"
   ]
  },
  {
   "cell_type": "markdown",
   "metadata": {},
   "source": [
    "The ones with a bigger size seem to drop more steeeply than those with smaller size, represing a truer exponentiality. \n",
    "\n",
    "There is also a difference between using the numpy and scipy functions, as the numpy seems to create a wider range of intervals and drop less steeply. "
   ]
  },
  {
   "cell_type": "markdown",
   "metadata": {},
   "source": [
    "## Exponential Distribution of Real Data\n",
    "\n",
    "Suppose that the amount of time one spends in a bank is exponentially distributed with mean as 10 minutes (i.e. λ = 1/10). What is the probability that a customer will spend less than fifteen minutes in the bank? \n",
    "\n",
    "Write a code in python to solve this problem"
   ]
  },
  {
   "cell_type": "code",
   "execution_count": 130,
   "metadata": {},
   "outputs": [
    {
     "data": {
      "text/plain": [
       "0.9816843611112658"
      ]
     },
     "execution_count": 130,
     "metadata": {},
     "output_type": "execute_result"
    }
   ],
   "source": [
    "# your answer here\n",
    "bank = expon(10)\n",
    "bank.cdf(14)"
   ]
  },
  {
   "cell_type": "markdown",
   "metadata": {},
   "source": [
    "What is the probability that the customer will spend more than 15 minutes"
   ]
  },
  {
   "cell_type": "code",
   "execution_count": 133,
   "metadata": {},
   "outputs": [],
   "source": [
    "less_or_15 = bank.cdf(15)"
   ]
  },
  {
   "cell_type": "code",
   "execution_count": 135,
   "metadata": {},
   "outputs": [],
   "source": [
    "more_than_15 = 1 - less_or_15"
   ]
  },
  {
   "cell_type": "code",
   "execution_count": 136,
   "metadata": {},
   "outputs": [
    {
     "data": {
      "text/plain": [
       "0.006737946999085476"
      ]
     },
     "execution_count": 136,
     "metadata": {},
     "output_type": "execute_result"
    }
   ],
   "source": [
    "more_than_15"
   ]
  },
  {
   "cell_type": "code",
   "execution_count": null,
   "metadata": {},
   "outputs": [],
   "source": []
  }
 ],
 "metadata": {
  "kernelspec": {
   "display_name": "Python 3",
   "language": "python",
   "name": "python3"
  },
  "language_info": {
   "codemirror_mode": {
    "name": "ipython",
    "version": 3
   },
   "file_extension": ".py",
   "mimetype": "text/x-python",
   "name": "python",
   "nbconvert_exporter": "python",
   "pygments_lexer": "ipython3",
   "version": "3.8.5"
  }
 },
 "nbformat": 4,
 "nbformat_minor": 2
}
